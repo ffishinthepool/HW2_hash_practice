{
  "nbformat": 4,
  "nbformat_minor": 0,
  "metadata": {
    "colab": {
      "provenance": []
    },
    "kernelspec": {
      "name": "python3",
      "display_name": "Python 3"
    },
    "language_info": {
      "name": "python"
    }
  },
  "cells": [
    {
      "cell_type": "code",
      "execution_count": 56,
      "metadata": {
        "colab": {
          "base_uri": "https://localhost:8080/"
        },
        "id": "n1ow3oVskHOf",
        "outputId": "c926e084-ae63-40c6-8ce5-84530c903603"
      },
      "outputs": [
        {
          "output_type": "stream",
          "name": "stdout",
          "text": [
            "1.總共出現10種不重複的詞彙\n",
            "2.每個詞彙出現次數：\n",
            "  Cheese: 234次\n",
            "   Pizza:  83次\n",
            "    Coke: 145次\n",
            "   Steak:  46次\n",
            "  Burger: 196次\n",
            "   Fries:  76次\n",
            "     Rib:  33次\n",
            "    Taco:  57次\n",
            "     Pho:  19次\n",
            "  Potato:   3次\n"
          ]
        }
      ],
      "source": [
        "food_dict = {}\n",
        "type_of_food = 0\n",
        "\n",
        "with open(\"hw2_data.txt\") as f:\n",
        "    text = f.read()                # 讀取整個檔案，放進text變數中（字串格式）\n",
        "    food_list = text.split(\"\\n\")   # 把字串以 \\n 為切點分割成串列\n",
        "\n",
        "    for i in food_list:\n",
        "        if i in food_dict:\n",
        "            food_dict[i] += 1      # 遇到重複的詞，value值 +1\n",
        "        else:\n",
        "            food_dict[i] = 1       # 遇到新的詞，建立新的key並指定value為1\n",
        "            type_of_food += 1      # 算詞彙個數\n",
        "\n",
        "    print(\"1.總共出現\" + str(type_of_food) + \"種不重複的詞彙\")\n",
        "\n",
        "    print(\"2.每個詞彙出現次數：\")     # 排版後輸出\n",
        "    for j in food_dict:\n",
        "        print(\"%8s:%4s次\" % (j, food_dict[j]))\n",
        "\n"
      ]
    },
    {
      "cell_type": "code",
      "source": [],
      "metadata": {
        "id": "Yi4mgKpPnPKL"
      },
      "execution_count": null,
      "outputs": []
    }
  ]
}